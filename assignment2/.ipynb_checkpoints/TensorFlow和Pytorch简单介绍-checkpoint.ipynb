{
 "cells": [
  {
   "cell_type": "markdown",
   "metadata": {},
   "source": [
    "## Tensorflow"
   ]
  },
  {
   "cell_type": "code",
   "execution_count": 1,
   "metadata": {
    "ExecuteTime": {
     "end_time": "2019-10-10T09:21:57.462111Z",
     "start_time": "2019-10-10T09:21:53.814324Z"
    }
   },
   "outputs": [],
   "source": [
    "import numpy as np\n",
    "import tensorflow as tf\n",
    "\n",
    "np.random.seed(0)"
   ]
  },
  {
   "cell_type": "code",
   "execution_count": 4,
   "metadata": {
    "ExecuteTime": {
     "end_time": "2019-10-10T14:23:30.752950Z",
     "start_time": "2019-10-10T14:23:30.295235Z"
    }
   },
   "outputs": [],
   "source": [
    "import matplotlib.pyplot as plt\n",
    "%matplotlib inline"
   ]
  },
  {
   "cell_type": "code",
   "execution_count": 14,
   "metadata": {
    "ExecuteTime": {
     "end_time": "2019-10-10T09:55:37.179637Z",
     "start_time": "2019-10-10T09:55:37.104665Z"
    }
   },
   "outputs": [],
   "source": [
    "N,D = 3, 4\n",
    "\n",
    "x = tf.placeholder(tf.float32)\n",
    "y = tf.placeholder(tf.float32)\n",
    "z = tf.placeholder(tf.float32)\n",
    "\n",
    "a = x * y\n",
    "b = a + z\n",
    "c = tf.reduce_sum(b)\n",
    "\n",
    "grad_x, grad_y, grad_z = tf.gradients(c, [x,y,z])"
   ]
  },
  {
   "cell_type": "code",
   "execution_count": 15,
   "metadata": {
    "ExecuteTime": {
     "end_time": "2019-10-10T09:55:37.699717Z",
     "start_time": "2019-10-10T09:55:37.643348Z"
    },
    "scrolled": false
   },
   "outputs": [],
   "source": [
    "with tf.Session() as sess:\n",
    "    values = {\n",
    "        x: np.random.randn(N, D),\n",
    "        y: np.random.randn(N, D),\n",
    "        z: np.random.randn(N, D),\n",
    "    }\n",
    "    out = sess.run([c, grad_x, grad_y, grad_z], feed_dict=values)\n",
    "    c_val, grad_x_val, grad_y_val, grad_z_val = out"
   ]
  },
  {
   "cell_type": "code",
   "execution_count": 49,
   "metadata": {
    "ExecuteTime": {
     "end_time": "2019-10-10T11:30:21.464668Z",
     "start_time": "2019-10-10T11:30:21.400091Z"
    }
   },
   "outputs": [],
   "source": [
    "## two-layer ReLU network on random data with L2 loss\n",
    "# 第一部分 定义计算图\n",
    "\n",
    "N,D,H = 64, 1000, 100\n",
    "\n",
    "x = tf.placeholder(tf.float32, shape=(N,D))\n",
    "y = tf.placeholder(tf.float32, shape=(N,D))\n",
    "\n",
    "w1 = tf.Variable(tf.random_normal((D,H)))\n",
    "w2 = tf.Variable(tf.random_normal((H,D)))\n",
    "\n",
    "# forward pass\n",
    "h = tf.maximum(tf.matmul(x, w1), 0)\n",
    "y_pred = tf.matmul(h, w2)\n",
    "\n",
    "# 手动计算loss\n",
    "diff = y_pred - y\n",
    "loss = tf.reduce_mean(tf.reduce_sum(diff ** 2., axis=1))"
   ]
  },
  {
   "cell_type": "code",
   "execution_count": 50,
   "metadata": {
    "ExecuteTime": {
     "end_time": "2019-10-10T11:30:24.204124Z",
     "start_time": "2019-10-10T11:30:22.038270Z"
    }
   },
   "outputs": [
    {
     "data": {
      "text/plain": [
       "<function matplotlib.pyplot.show(*args, **kw)>"
      ]
     },
     "execution_count": 50,
     "metadata": {},
     "output_type": "execute_result"
    },
    {
     "data": {
      "image/png": "[encoded data removed]",
      "text/plain": [
       "<Figure size 432x288 with 1 Axes>"
      ]
     },
     "metadata": {
      "needs_background": "light"
     },
     "output_type": "display_data"
    }
   ],
   "source": [
    "# 第二部分 运行计算图 训练网络\n",
    "\n",
    "# backward pass\n",
    "grad_w1, grad_w2 = tf.gradients(loss, [w1, w2])\n",
    "\n",
    "losses = list()\n",
    "\n",
    "learning_rate = 1e-5\n",
    "\n",
    "new_w1 = w1.assign(w1 - learning_rate * grad_w1)\n",
    "new_w2 = w2.assign(w2 - learning_rate * grad_w2)\n",
    "updates = tf.group(new_w1, new_w2)\n",
    "\n",
    "with tf.Session() as sess:\n",
    "    sess.run(tf.global_variables_initializer())\n",
    "    values = {\n",
    "        x: np.random.randn(N, D),\n",
    "        y: np.random.rand(N, D),\n",
    "    }\n",
    "    for t in range(50):\n",
    "        loss_val, _ = sess.run([loss, updates], feed_dict=values)\n",
    "        losses.append(loss_val)\n",
    "        \n",
    "plt.plot(range(len(losses)),losses,label='loss')\n",
    "plt.show"
   ]
  },
  {
   "cell_type": "code",
   "execution_count": 51,
   "metadata": {
    "ExecuteTime": {
     "end_time": "2019-10-10T11:30:28.076146Z",
     "start_time": "2019-10-10T11:30:25.797131Z"
    }
   },
   "outputs": [
    {
     "data": {
      "text/plain": [
       "<function matplotlib.pyplot.show(*args, **kw)>"
      ]
     },
     "execution_count": 51,
     "metadata": {},
     "output_type": "execute_result"
    },
    {
     "data": {
      "image/png": "[encoded data removed]",
      "text/plain": [
       "<Figure size 432x288 with 1 Axes>"
      ]
     },
     "metadata": {
      "needs_background": "light"
     },
     "output_type": "display_data"
    }
   ],
   "source": [
    "# 使用tf的优化器\n",
    "\n",
    "optimizer = tf.train.GradientDescentOptimizer(1e-5)\n",
    "updates = optimizer.minimize(loss)\n",
    "\n",
    "with tf.Session() as sess:\n",
    "    sess.run(tf.global_variables_initializer())\n",
    "    values = {\n",
    "        x: np.random.randn(N, D),\n",
    "        y: np.random.rand(N, D),\n",
    "    }\n",
    "    for t in range(50):\n",
    "        loss_val, _ = sess.run([loss, updates], feed_dict=values)\n",
    "        losses.append(loss_val)\n",
    "        \n",
    "plt.plot(range(len(losses)),losses,label='loss')\n",
    "plt.show"
   ]
  },
  {
   "cell_type": "code",
   "execution_count": 56,
   "metadata": {
    "ExecuteTime": {
     "end_time": "2019-10-10T11:35:30.601812Z",
     "start_time": "2019-10-10T11:35:30.475074Z"
    }
   },
   "outputs": [],
   "source": [
    "N,D,H = 64, 1000, 100\n",
    "\n",
    "x = tf.placeholder(tf.float32, shape=(N,D))\n",
    "y = tf.placeholder(tf.float32, shape=(N,D))\n",
    "\n",
    "init = tf.contrib.layers.xavier_initializer()\n",
    "h = tf.layers.dense(inputs=x, units=H, activation=tf.nn.relu, kernel_initializer=init)\n",
    "y_pred = tf.layers.dense(inputs=h, units=D, kernel_initializer=init)\n",
    "\n",
    "loss = tf.losses.mean_squared_error(y_pred, y)"
   ]
  },
  {
   "cell_type": "code",
   "execution_count": 57,
   "metadata": {
    "ExecuteTime": {
     "end_time": "2019-10-10T11:35:33.428280Z",
     "start_time": "2019-10-10T11:35:31.041335Z"
    }
   },
   "outputs": [
    {
     "data": {
      "text/plain": [
       "<function matplotlib.pyplot.show(*args, **kw)>"
      ]
     },
     "execution_count": 57,
     "metadata": {},
     "output_type": "execute_result"
    },
    {
     "data": {
      "image/png": "[encoded data removed]",
      "text/plain": [
       "<Figure size 432x288 with 1 Axes>"
      ]
     },
     "metadata": {
      "needs_background": "light"
     },
     "output_type": "display_data"
    }
   ],
   "source": [
    "optimizer = tf.train.GradientDescentOptimizer(1e-5)\n",
    "updates = optimizer.minimize(loss)\n",
    "\n",
    "with tf.Session() as sess:\n",
    "    sess.run(tf.global_variables_initializer())\n",
    "    values = {\n",
    "        x: np.random.randn(N, D),\n",
    "        y: np.random.rand(N, D),\n",
    "    }\n",
    "    for t in range(50):\n",
    "        loss_val, _ = sess.run([loss, updates], feed_dict=values)\n",
    "        losses.append(loss_val)\n",
    "        \n",
    "plt.plot(range(len(losses)),losses,label='loss')\n",
    "plt.show"
   ]
  },
  {
   "cell_type": "code",
   "execution_count": 63,
   "metadata": {
    "ExecuteTime": {
     "end_time": "2019-10-10T12:43:02.597062Z",
     "start_time": "2019-10-10T12:43:00.166364Z"
    }
   },
   "outputs": [
    {
     "name": "stderr",
     "output_type": "stream",
     "text": [
      "/Users/apple/anaconda/lib/python3.5/site-packages/ipykernel/__main__.py:10: UserWarning: Update your `Dense` call to the Keras 2 API: `Dense(input_dim=1000, units=100)`\n",
      "/Users/apple/anaconda/lib/python3.5/site-packages/ipykernel/__main__.py:12: UserWarning: Update your `Dense` call to the Keras 2 API: `Dense(input_dim=100, units=1000)`\n"
     ]
    }
   ],
   "source": [
    "## 使用keras\n",
    "\n",
    "from keras.models import Sequential\n",
    "from keras.layers.core import Dense, Activation\n",
    "from keras.optimizers import SGD\n",
    "\n",
    "N,D,H = 64, 1000, 100\n",
    "\n",
    "model = Sequential()\n",
    "model.add(Dense(input_dim=D, output_dim=H))\n",
    "model.add(Activation('relu'))\n",
    "model.add(Dense(input_dim=H, output_dim=D))\n",
    "\n",
    "optimizer = SGD(lr = 1e0)\n",
    "model.compile(loss='mean_squared_error', optimizer=optimizer)\n",
    "\n",
    "x = np.random.randn(N,D)\n",
    "y = np.random.randn(N,D)\n",
    "\n",
    "history = model.fit(x, y, epochs=50, batch_size=N, verbose=0)\n"
   ]
  },
  {
   "cell_type": "markdown",
   "metadata": {},
   "source": [
    "### Keras"
   ]
  },
  {
   "cell_type": "code",
   "execution_count": 64,
   "metadata": {
    "ExecuteTime": {
     "end_time": "2019-10-10T12:47:45.182637Z",
     "start_time": "2019-10-10T12:47:44.873075Z"
    }
   },
   "outputs": [],
   "source": [
    "import torch"
   ]
  },
  {
   "cell_type": "markdown",
   "metadata": {},
   "source": [
    "pytorch中的Tensor就像numpy中的array，但是它可以运行在GPU上（现在tensor和variable合并了）"
   ]
  },
  {
   "cell_type": "code",
   "execution_count": 67,
   "metadata": {
    "ExecuteTime": {
     "end_time": "2019-10-10T12:55:55.975042Z",
     "start_time": "2019-10-10T12:55:55.481284Z"
    }
   },
   "outputs": [
    {
     "data": {
      "text/plain": [
       "<function matplotlib.pyplot.show(*args, **kw)>"
      ]
     },
     "execution_count": 67,
     "metadata": {},
     "output_type": "execute_result"
    },
    {
     "data": {
      "image/png": "[encoded data removed]",
      "text/plain": [
       "<Figure size 432x288 with 1 Axes>"
      ]
     },
     "metadata": {
      "needs_background": "light"
     },
     "output_type": "display_data"
    }
   ],
   "source": [
    "# 运行在CPU\n",
    "dtype = torch.FloatTensor\n",
    "# 运行在GPU\n",
    "# dtype = torch.cuda.FloatTensor\n",
    "\n",
    "N, D_in, H, D_out = 64, 1000, 100, 10\n",
    "\n",
    "x = torch.randn(N, D_in).type(dtype)\n",
    "y = torch.randn(N, D_out).type(dtype)\n",
    "w1 = torch.randn(D_in, H).type(dtype)\n",
    "w2 = torch.randn(H, D_out).type(dtype)\n",
    "\n",
    "learning_rate = 1e-6\n",
    "losses = []\n",
    "\n",
    "for t in range(500):\n",
    "    h = x.mm(w1)\n",
    "    h_relu = h.clamp(min=0)\n",
    "    y_pred = h_relu.mm(w2)\n",
    "    loss = (y_pred - y).pow(2).sum()\n",
    "    \n",
    "    grad_y_pred = 2.0 * (y_pred - y)\n",
    "    grad_w2 = h_relu.t().mm(grad_y_pred)\n",
    "    grad_h_relu = grad_y_pred.mm(w2.t())\n",
    "    grad_h = grad_h_relu.clone()\n",
    "    grad_h[h<0] = 0\n",
    "    grad_w1 = x.t().mm(grad_h)\n",
    "    \n",
    "    w1 -= learning_rate * grad_w1\n",
    "    w2 -= learning_rate * grad_w2\n",
    "    \n",
    "    losses.append(loss)\n",
    "    \n",
    "plt.plot(range(len(losses)),losses,label='loss')\n",
    "plt.show"
   ]
  },
  {
   "cell_type": "code",
   "execution_count": null,
   "metadata": {},
   "outputs": [],
   "source": [
    "pytorch中的Variable是计算图中的一个Node（现在tensor和variable合并了）"
   ]
  },
  {
   "cell_type": "code",
   "execution_count": 1,
   "metadata": {
    "ExecuteTime": {
     "end_time": "2019-10-10T14:22:14.604333Z",
     "start_time": "2019-10-10T14:22:14.293850Z"
    }
   },
   "outputs": [],
   "source": [
    "import torch\n",
    "from torch.autograd import Variable"
   ]
  },
  {
   "cell_type": "code",
   "execution_count": 5,
   "metadata": {
    "ExecuteTime": {
     "end_time": "2019-10-10T14:23:34.019316Z",
     "start_time": "2019-10-10T14:23:33.205906Z"
    }
   },
   "outputs": [
    {
     "data": {
      "text/plain": [
       "<function matplotlib.pyplot.show(*args, **kw)>"
      ]
     },
     "execution_count": 5,
     "metadata": {},
     "output_type": "execute_result"
    },
    {
     "data": {
      "image/png": "[encoded data removed]",
      "text/plain": [
       "<Figure size 432x288 with 1 Axes>"
      ]
     },
     "metadata": {
      "needs_background": "light"
     },
     "output_type": "display_data"
    }
   ],
   "source": [
    "N, D_in, H, D_out = 64, 1000, 100, 10\n",
    "\n",
    "x = Variable(torch.randn(N, D_in),requires_grad = False)\n",
    "y = Variable(torch.randn(N, D_out),requires_grad = False)\n",
    "w1 = Variable(torch.randn(D_in, H),requires_grad = True)\n",
    "w2 = Variable(torch.randn(H, D_out),requires_grad = True)\n",
    "\n",
    "learning_rate = 1e-6\n",
    "losses = []\n",
    "\n",
    "for t in range(500):\n",
    "    \n",
    "    # forward pass\n",
    "    h = x.mm(w1)\n",
    "    h_relu = h.clamp(min=0)\n",
    "    y_pred = h_relu.mm(w2)\n",
    "    loss = (y_pred - y).pow(2).sum()\n",
    "    \n",
    "    # backward pass\n",
    "    if w1.grad is not None: w1.grad.data.zero_()\n",
    "    if w2.grad is not None: w2.grad.data.zero_()\n",
    "    loss.backward()\n",
    "    \n",
    "    # update\n",
    "    w1.data -= learning_rate * w1.grad.data\n",
    "    w2.data -= learning_rate * w2.grad.data\n",
    "    \n",
    "    losses.append(loss)\n",
    "    \n",
    "plt.plot(range(len(losses)),losses,label='loss')\n",
    "plt.show"
   ]
  },
  {
   "cell_type": "markdown",
   "metadata": {},
   "source": [
    "定义自己的autograd函数"
   ]
  },
  {
   "cell_type": "code",
   "execution_count": 10,
   "metadata": {
    "ExecuteTime": {
     "end_time": "2019-10-10T14:40:17.086075Z",
     "start_time": "2019-10-10T14:40:17.080569Z"
    }
   },
   "outputs": [],
   "source": [
    "class ReLU(torch.autograd.Function):\n",
    "    @staticmethod\n",
    "    def forward(ctx, x):\n",
    "        ctx.save_for_backward(x)\n",
    "        return x.clamp(min=0)\n",
    "    \n",
    "    @staticmethod\n",
    "    def backward(ctx, grad_y):\n",
    "        x, = ctx.saved_tensors\n",
    "        grad_input = grad_y.clone()\n",
    "        grad_input[x<0] = 0\n",
    "        return grad_input"
   ]
  },
  {
   "cell_type": "code",
   "execution_count": 12,
   "metadata": {
    "ExecuteTime": {
     "end_time": "2019-10-10T14:42:43.903168Z",
     "start_time": "2019-10-10T14:42:43.208380Z"
    }
   },
   "outputs": [
    {
     "data": {
      "text/plain": [
       "<function matplotlib.pyplot.show(*args, **kw)>"
      ]
     },
     "execution_count": 12,
     "metadata": {},
     "output_type": "execute_result"
    },
    {
     "data": {
      "image/png": "[encoded data removed]",
      "text/plain": [
       "<Figure size 432x288 with 1 Axes>"
      ]
     },
     "metadata": {
      "needs_background": "light"
     },
     "output_type": "display_data"
    }
   ],
   "source": [
    "N, D_in, H, D_out = 64, 1000, 100, 10\n",
    "\n",
    "x = Variable(torch.randn(N, D_in),requires_grad = False)\n",
    "y = Variable(torch.randn(N, D_out),requires_grad = False)\n",
    "w1 = Variable(torch.randn(D_in, H),requires_grad = True)\n",
    "w2 = Variable(torch.randn(H, D_out),requires_grad = True)\n",
    "\n",
    "learning_rate = 1e-6\n",
    "losses = []\n",
    "\n",
    "for t in range(500):\n",
    "    \n",
    "    # forward pass\n",
    "    relu = ReLU()\n",
    "    h = x.mm(w1)\n",
    "    h_relu = relu.apply(h)\n",
    "    y_pred = h_relu.mm(w2)\n",
    "    loss = (y_pred - y).pow(2).sum()\n",
    "    \n",
    "    # backward pass\n",
    "    if w1.grad is not None: w1.grad.data.zero_()\n",
    "    if w2.grad is not None: w2.grad.data.zero_()\n",
    "    loss.backward()\n",
    "    \n",
    "    # update\n",
    "    w1.data -= learning_rate * w1.grad.data\n",
    "    w2.data -= learning_rate * w2.grad.data\n",
    "    \n",
    "    losses.append(loss)\n",
    "    \n",
    "plt.plot(range(len(losses)),losses,label='loss')\n",
    "plt.show"
   ]
  },
  {
   "cell_type": "markdown",
   "metadata": {},
   "source": [
    "pytorch里的nn，类似Keras"
   ]
  },
  {
   "cell_type": "code",
   "execution_count": 15,
   "metadata": {
    "ExecuteTime": {
     "end_time": "2019-10-10T14:52:58.008193Z",
     "start_time": "2019-10-10T14:52:57.316396Z"
    }
   },
   "outputs": [
    {
     "data": {
      "text/plain": [
       "<function matplotlib.pyplot.show(*args, **kw)>"
      ]
     },
     "execution_count": 15,
     "metadata": {},
     "output_type": "execute_result"
    },
    {
     "data": {
      "image/png": "[encoded data removed]",
      "text/plain": [
       "<Figure size 432x288 with 1 Axes>"
      ]
     },
     "metadata": {
      "needs_background": "light"
     },
     "output_type": "display_data"
    }
   ],
   "source": [
    "from torch import nn\n",
    "\n",
    "N, D_in, H, D_out = 64, 1000, 100, 10\n",
    "\n",
    "x = Variable(torch.randn(N, D_in),requires_grad = False)\n",
    "y = Variable(torch.randn(N, D_out),requires_grad = False)\n",
    "\n",
    "model = nn.Sequential(nn.Linear(D_in, H), nn.ReLU(), nn.Linear(H, D_out))\n",
    "loss_fn = nn.MSELoss(reduction='sum')\n",
    "\n",
    "learning_rate = 1e-4\n",
    "losses = []\n",
    "\n",
    "for t in range(500):\n",
    "    \n",
    "    # forward pass\n",
    "    y_pred = model(x)\n",
    "    loss = loss_fn(y_pred, y)\n",
    "    \n",
    "    # backward pass\n",
    "    model.zero_grad()\n",
    "    loss.backward()\n",
    "    \n",
    "    # update\n",
    "    for param in model.parameters():\n",
    "        param.data -= learning_rate * param.grad.data\n",
    "    \n",
    "    losses.append(loss)\n",
    "    \n",
    "plt.plot(range(len(losses)),losses,label='loss')\n",
    "plt.show"
   ]
  },
  {
   "cell_type": "code",
   "execution_count": 17,
   "metadata": {
    "ExecuteTime": {
     "end_time": "2019-10-10T14:55:50.735187Z",
     "start_time": "2019-10-10T14:55:49.865210Z"
    }
   },
   "outputs": [
    {
     "data": {
      "text/plain": [
       "<function matplotlib.pyplot.show(*args, **kw)>"
      ]
     },
     "execution_count": 17,
     "metadata": {},
     "output_type": "execute_result"
    },
    {
     "data": {
      "image/png": "[encoded data removed]",
      "text/plain": [
       "<Figure size 432x288 with 1 Axes>"
      ]
     },
     "metadata": {
      "needs_background": "light"
     },
     "output_type": "display_data"
    }
   ],
   "source": [
    "from torch import nn\n",
    "\n",
    "N, D_in, H, D_out = 64, 1000, 100, 10\n",
    "\n",
    "x = Variable(torch.randn(N, D_in),requires_grad = False)\n",
    "y = Variable(torch.randn(N, D_out),requires_grad = False)\n",
    "\n",
    "model = nn.Sequential(nn.Linear(D_in, H), nn.ReLU(), nn.Linear(H, D_out))\n",
    "loss_fn = nn.MSELoss(reduction='sum')\n",
    "\n",
    "learning_rate = 1e-4\n",
    "\n",
    "optimizer = torch.optim.Adam(model.parameters(), lr=learning_rate)\n",
    "\n",
    "losses = []\n",
    "\n",
    "for t in range(500):\n",
    "    \n",
    "    # forward pass\n",
    "    y_pred = model(x)\n",
    "    loss = loss_fn(y_pred, y)\n",
    "    \n",
    "    # backward pass\n",
    "    optimizer.zero_grad()\n",
    "    loss.backward()\n",
    "    \n",
    "    # update\n",
    "    optimizer.step()\n",
    "    \n",
    "    losses.append(loss)\n",
    "    \n",
    "plt.plot(range(len(losses)),losses,label='loss')\n",
    "plt.show"
   ]
  },
  {
   "cell_type": "code",
   "execution_count": null,
   "metadata": {},
   "outputs": [],
   "source": [
    "import torch\n",
    "import torch.autograd import Variable\n"
   ]
  }
 ],
 "metadata": {
  "kernelspec": {
   "display_name": "Python [conda env:anaconda]",
   "language": "python",
   "name": "conda-env-anaconda-py"
  },
  "language_info": {
   "codemirror_mode": {
    "name": "ipython",
    "version": 3
   },
   "file_extension": ".py",
   "mimetype": "text/x-python",
   "name": "python",
   "nbconvert_exporter": "python",
   "pygments_lexer": "ipython3",
   "version": "3.5.6"
  },
  "latex_envs": {
   "LaTeX_envs_menu_present": true,
   "autoclose": false,
   "autocomplete": true,
   "bibliofile": "biblio.bib",
   "cite_by": "apalike",
   "current_citInitial": 1,
   "eqLabelWithNumbers": true,
   "eqNumInitial": 1,
   "hotkeys": {
    "equation": "Ctrl-E",
    "itemize": "Ctrl-I"
   },
   "labels_anchors": false,
   "latex_user_defs": false,
   "report_style_numbering": false,
   "user_envs_cfg": false
  },
  "toc": {
   "base_numbering": 1,
   "nav_menu": {},
   "number_sections": false,
   "sideBar": true,
   "skip_h1_title": false,
   "title_cell": "Table of Contents",
   "title_sidebar": "Contents",
   "toc_cell": false,
   "toc_position": {},
   "toc_section_display": true,
   "toc_window_display": false
  },
  "varInspector": {
   "cols": {
    "lenName": 16,
    "lenType": 16,
    "lenVar": 40
   },
   "kernels_config": {
    "python": {
     "delete_cmd_postfix": "",
     "delete_cmd_prefix": "del ",
     "library": "var_list.py",
     "varRefreshCmd": "print(var_dic_list())"
    },
    "r": {
     "delete_cmd_postfix": ") ",
     "delete_cmd_prefix": "rm(",
     "library": "var_list.r",
     "varRefreshCmd": "cat(var_dic_list()) "
    }
   },
   "types_to_exclude": [
    "module",
    "function",
    "builtin_function_or_method",
    "instance",
    "_Feature"
   ],
   "window_display": false
  }
 },
 "nbformat": 4,
 "nbformat_minor": 2
}
